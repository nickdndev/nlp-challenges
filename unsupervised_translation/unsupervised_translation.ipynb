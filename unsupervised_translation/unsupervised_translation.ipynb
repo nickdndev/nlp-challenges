{
 "cells": [
  {
   "cell_type": "markdown",
   "metadata": {
    "colab_type": "text",
    "id": "eulvfJWl7ueY"
   },
   "source": [
    "## Homework 02: Unsupervised embedding-based MT\n",
    "*Note: this homework is based on open materials from yandexdataschool [NLP course](https://github.com/yandexdataschool/nlp_course/). Feel free to check this awesome course if you wish to dig deeper.*\n",
    "\n",
    "*Refined by [Nikolay Karpachev](https://www.linkedin.com/in/nikolay-karpachev-b0146a104/)*"
   ]
  },
  {
   "cell_type": "markdown",
   "metadata": {
    "colab_type": "text",
    "id": "fV4rIjxa7uei"
   },
   "source": [
    "**In this homework** **<font color='red'>YOU</font>** will make machine translation system without using parallel corpora, alignment, attention, 100500 depth super-cool recurrent neural network and all that kind superstuff.\n",
    "\n",
    "But even without parallel corpora this system can be good enough (hopefully), in particular for similar languages, e.g. Ukrainian and Russian. "
   ]
  },
  {
   "cell_type": "markdown",
   "metadata": {
    "colab_type": "text",
    "id": "idSYq2GU7uew"
   },
   "source": [
    "### Frament of the Swadesh list for some slavic languages\n",
    "\n",
    "The Swadesh list is a lexicostatistical stuff. It's named after American linguist Morris Swadesh and contains basic lexis. This list are used to define subgroupings of languages, its relatedness.\n",
    "\n",
    "So we can see some kind of word invariance for different Slavic languages.\n",
    "\n",
    "\n",
    "| Russian         | Belorussian              | Ukrainian               | Polish             | Czech                         | Bulgarian            |\n",
    "|-----------------|--------------------------|-------------------------|--------------------|-------------------------------|-----------------------|\n",
    "| женщина         | жанчына, кабета, баба    | жінка                   | kobieta            | žena                          | жена                  |\n",
    "| мужчина         | мужчына                  | чоловік, мужчина        | mężczyzna          | muž                           | мъж                   |\n",
    "| человек         | чалавек                  | людина, чоловік         | człowiek           | člověk                        | човек                 |\n",
    "| ребёнок, дитя   | дзіця, дзіцёнак, немаўля | дитина, дитя            | dziecko            | dítě                          | дете                  |\n",
    "| жена            | жонка                    | дружина, жінка          | żona               | žena, manželka, choť          | съпруга, жена         |\n",
    "| муж             | муж, гаспадар            | чоловiк, муж            | mąż                | muž, manžel, choť             | съпруг, мъж           |\n",
    "| мать, мама      | маці, матка              | мати, матір, неня, мама | matka              | matka, máma, 'стар.' mateř    | майка                 |\n",
    "| отец, тятя      | бацька, тата             | батько, тато, татусь    | ojciec             | otec                          | баща, татко           |\n",
    "| много           | шмат, багата             | багато                  | wiele              | mnoho, hodně                  | много                 |\n",
    "| несколько       | некалькі, колькі         | декілька, кілька        | kilka              | několik, pár, trocha          | няколко               |\n",
    "| другой, иной    | іншы                     | інший                   | inny               | druhý, jiný                   | друг                  |\n",
    "| зверь, животное | жывёла, звер, істота     | тварина, звір           | zwierzę            | zvíře                         | животно               |\n",
    "| рыба            | рыба                     | риба                    | ryba               | ryba                          | риба                  |\n",
    "| птица           | птушка                   | птах, птиця             | ptak               | pták                          | птица                 |\n",
    "| собака, пёс     | сабака                   | собака, пес             | pies               | pes                           | куче, пес             |\n",
    "| вошь            | вош                      | воша                    | wesz               | veš                           | въшка                 |\n",
    "| змея, гад       | змяя                     | змія, гад               | wąż                | had                           | змия                  |\n",
    "| червь, червяк   | чарвяк                   | хробак, черв'як         | robak              | červ                          | червей                |\n",
    "| дерево          | дрэва                    | дерево                  | drzewo             | strom, dřevo                  | дърво                 |\n",
    "| лес             | лес                      | ліс                     | las                | les                           | гора, лес             |\n",
    "| палка           | кій, палка               | палиця                  | patyk, pręt, pałka | hůl, klacek, prut, kůl, pálka | палка, пръчка, бастун |"
   ]
  },
  {
   "cell_type": "markdown",
   "metadata": {
    "colab_type": "text",
    "id": "cNM3_fjr7ue2"
   },
   "source": [
    "But the context distribution of these languages demonstrates even more invariance. And we can use this fact for our for our purposes."
   ]
  },
  {
   "cell_type": "markdown",
   "metadata": {
    "colab_type": "text",
    "id": "YLppwa527ue6"
   },
   "source": [
    "## Data"
   ]
  },
  {
   "cell_type": "code",
   "execution_count": 2,
   "metadata": {
    "colab": {},
    "colab_type": "code",
    "id": "lYBGKAUn7ue_"
   },
   "outputs": [],
   "source": [
    "import gensim\n",
    "import numpy as np\n",
    "from gensim.models import KeyedVectors"
   ]
  },
  {
   "cell_type": "markdown",
   "metadata": {
    "colab_type": "text",
    "id": "MwGoVhRA7ufP"
   },
   "source": [
    "In this notebook we're going to use pretrained word vectors - FastText (original paper - https://arxiv.org/abs/1607.04606).\n",
    "\n",
    "You can download them from the official [website](https://fasttext.cc/docs/en/crawl-vectors.html). We're going to need embeddings for Russian and Ukrainian languages. Please use word2vec-compatible format (.text)."
   ]
  },
  {
   "cell_type": "code",
   "execution_count": 3,
   "metadata": {
    "colab": {},
    "colab_type": "code",
    "id": "u1JjQv_97ufT"
   },
   "outputs": [],
   "source": [
    "uk_emb = KeyedVectors.load_word2vec_format(\"cc.uk.300.vec\")"
   ]
  },
  {
   "cell_type": "code",
   "execution_count": 4,
   "metadata": {
    "colab": {},
    "colab_type": "code",
    "id": "ffzuept_7ufd"
   },
   "outputs": [],
   "source": [
    "ru_emb = KeyedVectors.load_word2vec_format(\"cc.ru.300.vec\")"
   ]
  },
  {
   "cell_type": "code",
   "execution_count": 5,
   "metadata": {
    "colab": {},
    "colab_type": "code",
    "id": "nTkXfT0W7ufk"
   },
   "outputs": [
    {
     "data": {
      "text/plain": [
       "[('август', 1.0000001192092896),\n",
       " ('июль', 0.9383152723312378),\n",
       " ('сентябрь', 0.9240029454231262),\n",
       " ('июнь', 0.9222574830055237),\n",
       " ('октябрь', 0.9095539450645447),\n",
       " ('ноябрь', 0.8930036425590515),\n",
       " ('апрель', 0.8729087114334106),\n",
       " ('декабрь', 0.8652557730674744),\n",
       " ('март', 0.8545795679092407),\n",
       " ('февраль', 0.8401415944099426)]"
      ]
     },
     "execution_count": 5,
     "metadata": {},
     "output_type": "execute_result"
    }
   ],
   "source": [
    "ru_emb.most_similar([ru_emb[\"август\"]], topn=10)"
   ]
  },
  {
   "cell_type": "code",
   "execution_count": 11,
   "metadata": {
    "colab": {},
    "colab_type": "code",
    "id": "vdBA8lcg7ufs"
   },
   "outputs": [
    {
     "data": {
      "text/plain": [
       "[('серпень', 0.9999998807907104),\n",
       " ('липень', 0.9096441268920898),\n",
       " ('вересень', 0.9016969203948975),\n",
       " ('червень', 0.8992518782615662),\n",
       " ('жовтень', 0.8810408115386963),\n",
       " ('листопад', 0.8787633180618286),\n",
       " ('квітень', 0.8592804670333862),\n",
       " ('грудень', 0.8586863279342651),\n",
       " ('травень', 0.840811014175415),\n",
       " ('лютий', 0.8256431221961975)]"
      ]
     },
     "execution_count": 11,
     "metadata": {},
     "output_type": "execute_result"
    }
   ],
   "source": [
    "uk_emb.most_similar([uk_emb[\"серпень\"]])"
   ]
  },
  {
   "cell_type": "code",
   "execution_count": 12,
   "metadata": {
    "colab": {},
    "colab_type": "code",
    "id": "_yJvcKXO7uf0"
   },
   "outputs": [
    {
     "data": {
      "text/plain": [
       "[('Stepashka.com', 0.2757962644100189),\n",
       " ('ЖИЗНИВадим', 0.25203436613082886),\n",
       " ('2Дмитрий', 0.25048112869262695),\n",
       " ('2012Дмитрий', 0.24829229712486267),\n",
       " ('Ведущий-Алексей', 0.24438698589801788),\n",
       " ('Недопустимость', 0.24435284733772278),\n",
       " ('2Михаил', 0.23981398344039917),\n",
       " ('лексей', 0.23740755021572113),\n",
       " ('комплексн', 0.23695150017738342),\n",
       " ('персональ', 0.2368222326040268)]"
      ]
     },
     "execution_count": 12,
     "metadata": {},
     "output_type": "execute_result"
    }
   ],
   "source": [
    "ru_emb.most_similar([uk_emb[\"серпень\"]])"
   ]
  },
  {
   "cell_type": "markdown",
   "metadata": {
    "colab_type": "text",
    "id": "pNdYAR1q7uf6"
   },
   "source": [
    "Load small dictionaries for correspoinding words pairs as trainset and testset."
   ]
  },
  {
   "cell_type": "code",
   "execution_count": 6,
   "metadata": {
    "colab": {},
    "colab_type": "code",
    "id": "35d_DAK67uf8"
   },
   "outputs": [],
   "source": [
    "def load_word_pairs(filename):\n",
    "    uk_ru_pairs = []\n",
    "    uk_vectors = []\n",
    "    ru_vectors = []\n",
    "    with open(filename, \"r\") as inpf:\n",
    "        for line in inpf:\n",
    "            uk, ru = line.rstrip().split(\"\\t\")\n",
    "            if uk not in uk_emb or ru not in ru_emb:\n",
    "                continue\n",
    "            uk_ru_pairs.append((uk, ru))\n",
    "            uk_vectors.append(uk_emb[uk])\n",
    "            ru_vectors.append(ru_emb[ru])\n",
    "    return uk_ru_pairs, np.array(uk_vectors), np.array(ru_vectors)"
   ]
  },
  {
   "cell_type": "code",
   "execution_count": 14,
   "metadata": {
    "colab": {},
    "colab_type": "code",
    "id": "wkNL602WHJyO"
   },
   "outputs": [
    {
     "name": "stdout",
     "output_type": "stream",
     "text": [
      "--2021-04-09 22:27:39--  http://tiny.cc/jfgecz\n",
      "Resolving tiny.cc (tiny.cc)... 157.245.113.153\n",
      "Connecting to tiny.cc (tiny.cc)|157.245.113.153|:80... connected.\n",
      "HTTP request sent, awaiting response... 301 Moved Permanently\n",
      "Location: https://tiny.cc/jfgecz [following]\n",
      "--2021-04-09 22:27:40--  https://tiny.cc/jfgecz\n",
      "Connecting to tiny.cc (tiny.cc)|157.245.113.153|:443... connected.\n",
      "HTTP request sent, awaiting response... 303 See Other\n",
      "Location: https://raw.githubusercontent.com/yandexdataschool/nlp_course/master/week01_embeddings/ukr_rus.train.txt [following]\n",
      "--2021-04-09 22:27:41--  https://raw.githubusercontent.com/yandexdataschool/nlp_course/master/week01_embeddings/ukr_rus.train.txt\n",
      "Resolving raw.githubusercontent.com (raw.githubusercontent.com)... 185.199.108.133, 185.199.109.133, 185.199.110.133, ...\n",
      "Connecting to raw.githubusercontent.com (raw.githubusercontent.com)|185.199.108.133|:443... connected.\n",
      "HTTP request sent, awaiting response... 200 OK\n",
      "Length: 59351 (58K) [text/plain]\n",
      "Saving to: ‘ukr_rus.train.txt’\n",
      "\n",
      "ukr_rus.train.txt   100%[===================>]  57.96K  --.-KB/s    in 0.04s   \n",
      "\n",
      "2021-04-09 22:27:41 (1.56 MB/s) - ‘ukr_rus.train.txt’ saved [59351/59351]\n",
      "\n"
     ]
    }
   ],
   "source": [
    "!wget -O ukr_rus.train.txt http://tiny.cc/jfgecz"
   ]
  },
  {
   "cell_type": "code",
   "execution_count": 15,
   "metadata": {
    "colab": {},
    "colab_type": "code",
    "id": "uoclU6JcHCcn"
   },
   "outputs": [
    {
     "name": "stdout",
     "output_type": "stream",
     "text": [
      "--2021-04-09 22:27:45--  http://tiny.cc/6zoeez\n",
      "Resolving tiny.cc (tiny.cc)... 157.245.113.153\n",
      "Connecting to tiny.cc (tiny.cc)|157.245.113.153|:80... connected.\n",
      "HTTP request sent, awaiting response... 301 Moved Permanently\n",
      "Location: https://tiny.cc/6zoeez [following]\n",
      "--2021-04-09 22:27:46--  https://tiny.cc/6zoeez\n",
      "Connecting to tiny.cc (tiny.cc)|157.245.113.153|:443... connected.\n",
      "HTTP request sent, awaiting response... 303 See Other\n",
      "Location: https://raw.githubusercontent.com/yandexdataschool/nlp_course/master/week01_embeddings/ukr_rus.test.txt [following]\n",
      "--2021-04-09 22:27:47--  https://raw.githubusercontent.com/yandexdataschool/nlp_course/master/week01_embeddings/ukr_rus.test.txt\n",
      "Resolving raw.githubusercontent.com (raw.githubusercontent.com)... 185.199.111.133, 185.199.110.133, 185.199.109.133, ...\n",
      "Connecting to raw.githubusercontent.com (raw.githubusercontent.com)|185.199.111.133|:443... connected.\n",
      "HTTP request sent, awaiting response... 200 OK\n",
      "Length: 12188 (12K) [text/plain]\n",
      "Saving to: ‘ukr_rus.test.txt’\n",
      "\n",
      "ukr_rus.test.txt    100%[===================>]  11.90K  --.-KB/s    in 0s      \n",
      "\n",
      "2021-04-09 22:27:47 (32.3 MB/s) - ‘ukr_rus.test.txt’ saved [12188/12188]\n",
      "\n"
     ]
    }
   ],
   "source": [
    "!wget -O ukr_rus.test.txt http://tiny.cc/6zoeez"
   ]
  },
  {
   "cell_type": "code",
   "execution_count": 7,
   "metadata": {
    "colab": {},
    "colab_type": "code",
    "id": "05BqsdSK7ugD"
   },
   "outputs": [],
   "source": [
    "uk_ru_train, X_train, Y_train = load_word_pairs(\"ukr_rus.train.txt\")"
   ]
  },
  {
   "cell_type": "code",
   "execution_count": 8,
   "metadata": {
    "colab": {},
    "colab_type": "code",
    "id": "zQOZw51r7ugL"
   },
   "outputs": [],
   "source": [
    "uk_ru_test, X_test, Y_test = load_word_pairs(\"ukr_rus.test.txt\")"
   ]
  },
  {
   "cell_type": "markdown",
   "metadata": {
    "colab_type": "text",
    "id": "-ZBBNvpz7ugQ"
   },
   "source": [
    "## Embedding space mapping (0.3 pts)"
   ]
  },
  {
   "cell_type": "markdown",
   "metadata": {
    "colab_type": "text",
    "id": "x_Dhk5gL7ugS"
   },
   "source": [
    "Let $x_i \\in \\mathrm{R}^d$ be the distributed representation of word $i$ in the source language, and $y_i \\in \\mathrm{R}^d$ is the vector representation of its translation. Our purpose is to learn such linear transform $W$ that minimizes euclidian distance between $Wx_i$ and $y_i$ for some subset of word embeddings. Thus we can formulate so-called Procrustes problem:\n",
    "\n",
    "$$W^*= \\arg\\min_W \\sum_{i=1}^n||Wx_i - y_i||_2$$\n",
    "or\n",
    "$$W^*= \\arg\\min_W ||WX - Y||_F$$\n",
    "\n",
    "where $||*||_F$ - Frobenius norm."
   ]
  },
  {
   "cell_type": "markdown",
   "metadata": {
    "colab_type": "text",
    "id": "acOjDdtL7ugY"
   },
   "source": [
    "$W^*= \\arg\\min_W \\sum_{i=1}^n||Wx_i - y_i||_2$ looks like simple multiple linear regression (without intercept fit). So let's code."
   ]
  },
  {
   "cell_type": "code",
   "execution_count": 9,
   "metadata": {
    "colab": {},
    "colab_type": "code",
    "id": "Lb-KN1be7uga"
   },
   "outputs": [
    {
     "data": {
      "text/plain": [
       "LinearRegression()"
      ]
     },
     "execution_count": 9,
     "metadata": {},
     "output_type": "execute_result"
    }
   ],
   "source": [
    "from sklearn.linear_model import LinearRegression\n",
    "\n",
    "# YOUR CODE HERE\n",
    "mapping = LinearRegression()\n",
    "mapping.fit(X_train,Y_train)"
   ]
  },
  {
   "cell_type": "markdown",
   "metadata": {
    "colab_type": "text",
    "id": "X7tqJwoY7ugf"
   },
   "source": [
    "Let's take a look at neigbours of the vector of word _\"серпень\"_ (_\"август\"_ in Russian) after linear transform."
   ]
  },
  {
   "cell_type": "code",
   "execution_count": 10,
   "metadata": {
    "colab": {},
    "colab_type": "code",
    "id": "31SrFSbn7ugi"
   },
   "outputs": [
    {
     "data": {
      "text/plain": [
       "[('апрель', 0.8531402945518494),\n",
       " ('июнь', 0.8402308225631714),\n",
       " ('март', 0.8385774493217468),\n",
       " ('сентябрь', 0.8331867456436157),\n",
       " ('февраль', 0.8311492800712585),\n",
       " ('октябрь', 0.8278172016143799),\n",
       " ('ноябрь', 0.8244150280952454),\n",
       " ('июль', 0.8228995203971863),\n",
       " ('август', 0.8112362027168274),\n",
       " ('январь', 0.8022859692573547)]"
      ]
     },
     "execution_count": 10,
     "metadata": {},
     "output_type": "execute_result"
    }
   ],
   "source": [
    "august = mapping.predict(uk_emb[\"серпень\"].reshape(1, -1))\n",
    "ru_emb.most_similar(august)"
   ]
  },
  {
   "cell_type": "markdown",
   "metadata": {
    "colab_type": "text",
    "id": "okSkjk597ugo"
   },
   "source": [
    "We can see that neighbourhood of this embedding cosists of different months, but right variant is on the ninth place."
   ]
  },
  {
   "cell_type": "markdown",
   "metadata": {
    "colab_type": "text",
    "id": "o2uY6Y9B7ugt"
   },
   "source": [
    "As quality measure we will use precision top-1, top-5 and top-10 (for each transformed Ukrainian embedding we count how many right target pairs are found in top N nearest neighbours in Russian embedding space)."
   ]
  },
  {
   "cell_type": "code",
   "execution_count": 11,
   "metadata": {
    "colab": {},
    "colab_type": "code",
    "id": "zptuho8LAfIE"
   },
   "outputs": [],
   "source": [
    "def precision(pairs, mapped_vectors, topn=1):\n",
    "    \"\"\"\n",
    "    :args:\n",
    "        pairs = list of right word pairs [(uk_word_0, ru_word_0), ...]\n",
    "        mapped_vectors = list of embeddings after mapping from source embedding space to destination embedding space\n",
    "        topn = the number of nearest neighbours in destination embedding space to choose from\n",
    "    :returns:\n",
    "        precision_val, float number, total number of words for those we can find right translation at top K.\n",
    "    \"\"\"\n",
    "    assert len(pairs) == len(mapped_vectors)\n",
    "    num_matches = 0\n",
    "    for i, (_, ru) in enumerate(pairs):\n",
    "        # YOUR CODE HERE\n",
    "        tops  = ru_emb.most_similar([mapped_vectors[i]],topn=topn) \n",
    "        tops = [t[0] for t in tops]\n",
    "        num_matches += ru in tops\n",
    "    precision_val = num_matches / len(pairs)\n",
    "    return precision_val"
   ]
  },
  {
   "cell_type": "code",
   "execution_count": 12,
   "metadata": {
    "colab": {},
    "colab_type": "code",
    "id": "duhj9hpv7ugy"
   },
   "outputs": [],
   "source": [
    "assert precision([(\"серпень\", \"август\")], august, topn=5) == 0.0\n",
    "assert precision([(\"серпень\", \"август\")], august, topn=9) == 1.0\n",
    "assert precision([(\"серпень\", \"август\")], august, topn=10) == 1.0"
   ]
  },
  {
   "cell_type": "code",
   "execution_count": 13,
   "metadata": {
    "colab": {},
    "colab_type": "code",
    "id": "0-iyd5gP7ug5"
   },
   "outputs": [],
   "source": [
    "assert precision(uk_ru_test, X_test) == 0.0\n",
    "assert precision(uk_ru_test, Y_test) == 1.0"
   ]
  },
  {
   "cell_type": "code",
   "execution_count": 14,
   "metadata": {
    "colab": {},
    "colab_type": "code",
    "id": "U-ssEJ3x7uhA"
   },
   "outputs": [],
   "source": [
    "precision_top1 = precision(uk_ru_test, mapping.predict(X_test), 1)\n",
    "precision_top5 = precision(uk_ru_test, mapping.predict(X_test), 5)"
   ]
  },
  {
   "cell_type": "code",
   "execution_count": 15,
   "metadata": {
    "colab": {},
    "colab_type": "code",
    "id": "7K-hy7a6Ksn2"
   },
   "outputs": [
    {
     "name": "stdout",
     "output_type": "stream",
     "text": [
      "0.6259541984732825\n",
      "0.7913486005089059\n"
     ]
    }
   ],
   "source": [
    "print(precision_top1)\n",
    "print(precision_top5)"
   ]
  },
  {
   "cell_type": "markdown",
   "metadata": {
    "colab_type": "text",
    "id": "hf6Ou8bx7uhH"
   },
   "source": [
    "## Making it better (orthogonal Procrustean problem) (0.3 pts)"
   ]
  },
  {
   "cell_type": "markdown",
   "metadata": {
    "colab_type": "text",
    "id": "4oLs-drN7uhK"
   },
   "source": [
    "It can be shown (see original paper) that a self-consistent linear mapping between semantic spaces should be orthogonal. \n",
    "We can restrict transform $W$ to be orthogonal. Then we will solve next problem:\n",
    "\n",
    "$$W^*= \\arg\\min_W ||WX - Y||_F \\text{, where: } W^TW = I$$\n",
    "\n",
    "$$I \\text{- identity matrix}$$\n",
    "\n",
    "Instead of making yet another regression problem we can find optimal orthogonal transformation using singular value decomposition. It turns out that optimal transformation $W^*$ can be expressed via SVD components:\n",
    "$$X^TY=U\\Sigma V^T\\text{, singular value decompostion}$$\n",
    "$$W^*=UV^T$$"
   ]
  },
  {
   "cell_type": "code",
   "execution_count": 21,
   "metadata": {
    "colab": {},
    "colab_type": "code",
    "id": "_KSaRJFGMFiJ"
   },
   "outputs": [],
   "source": [
    "import numpy as np"
   ]
  },
  {
   "cell_type": "code",
   "execution_count": 22,
   "metadata": {
    "colab": {},
    "colab_type": "code",
    "id": "DdFQ7qti7uhL"
   },
   "outputs": [],
   "source": [
    "def learn_transform(X_train, Y_train):\n",
    "    \"\"\" \n",
    "    :returns: W* : float matrix[emb_dim x emb_dim] as defined in formulae above\n",
    "    \"\"\"\n",
    "    # YOUR CODE GOES HERE\n",
    "    # compute orthogonal embedding space mapping\n",
    "    # mapping = ...\n",
    "    u, s, vh = np.linalg.svd(X_train.T @ Y_train)\n",
    "    mapping = u @ vh\n",
    "    return mapping"
   ]
  },
  {
   "cell_type": "code",
   "execution_count": 23,
   "metadata": {
    "colab": {},
    "colab_type": "code",
    "id": "7X7QfYDd7uhQ"
   },
   "outputs": [],
   "source": [
    "W = learn_transform(X_train, Y_train)"
   ]
  },
  {
   "cell_type": "code",
   "execution_count": 24,
   "metadata": {
    "colab": {},
    "colab_type": "code",
    "id": "OVOFYYa37uhX"
   },
   "outputs": [
    {
     "data": {
      "text/plain": [
       "[('апрель', 0.8245131969451904),\n",
       " ('июнь', 0.8056630492210388),\n",
       " ('сентябрь', 0.8055762648582458),\n",
       " ('март', 0.8032934665679932),\n",
       " ('октябрь', 0.7987101674079895),\n",
       " ('июль', 0.7946797013282776),\n",
       " ('ноябрь', 0.793963611125946),\n",
       " ('август', 0.7938188910484314),\n",
       " ('февраль', 0.7923860549926758),\n",
       " ('декабрь', 0.7715376019477844)]"
      ]
     },
     "execution_count": 24,
     "metadata": {},
     "output_type": "execute_result"
    }
   ],
   "source": [
    "ru_emb.most_similar([np.matmul(uk_emb[\"серпень\"], W)])"
   ]
  },
  {
   "cell_type": "code",
   "execution_count": 25,
   "metadata": {
    "colab": {},
    "colab_type": "code",
    "id": "r297sYP37uhb"
   },
   "outputs": [
    {
     "name": "stdout",
     "output_type": "stream",
     "text": [
      "0.6437659033078881\n",
      "0.7989821882951654\n"
     ]
    }
   ],
   "source": [
    "print(precision(uk_ru_test, np.matmul(X_test, W)))\n",
    "print(precision(uk_ru_test, np.matmul(X_test, W), 5))"
   ]
  },
  {
   "cell_type": "markdown",
   "metadata": {
    "colab_type": "text",
    "id": "hvUZ72U5AfJg"
   },
   "source": [
    "## Unsupervised embedding-based MT (0.4 pts)"
   ]
  },
  {
   "cell_type": "markdown",
   "metadata": {
    "colab_type": "text",
    "id": "LLyuVfHBLrJn"
   },
   "source": [
    "Now, let's build our word embeddings-based translator!"
   ]
  },
  {
   "cell_type": "markdown",
   "metadata": {
    "colab_type": "text",
    "id": "tPAURW1CMuP7"
   },
   "source": [
    "Firstly, download OPUS Tatoeba corpus."
   ]
  },
  {
   "cell_type": "code",
   "execution_count": 70,
   "metadata": {
    "colab": {},
    "colab_type": "code",
    "id": "F80kUKzQMsDu"
   },
   "outputs": [
    {
     "name": "stdout",
     "output_type": "stream",
     "text": [
      "--2021-04-09 23:52:11--  https://object.pouta.csc.fi/OPUS-Tatoeba/v20190709/mono/uk.txt.gz\n",
      "Resolving object.pouta.csc.fi (object.pouta.csc.fi)... 86.50.254.19, 86.50.254.18\n",
      "Connecting to object.pouta.csc.fi (object.pouta.csc.fi)|86.50.254.19|:443... connected.\n",
      "HTTP request sent, awaiting response... 200 OK\n",
      "Length: 1819128 (1.7M) [application/gzip]\n",
      "Saving to: ‘uk.txt.gz’\n",
      "\n",
      "uk.txt.gz           100%[===================>]   1.73M  2.47MB/s    in 0.7s    \n",
      "\n",
      "2021-04-09 23:52:13 (2.47 MB/s) - ‘uk.txt.gz’ saved [1819128/1819128]\n",
      "\n"
     ]
    }
   ],
   "source": [
    "!wget https://object.pouta.csc.fi/OPUS-Tatoeba/v20190709/mono/uk.txt.gz"
   ]
  },
  {
   "cell_type": "code",
   "execution_count": 71,
   "metadata": {
    "colab": {},
    "colab_type": "code",
    "id": "0CGFZoxCUVf1"
   },
   "outputs": [],
   "source": [
    "!gzip -d ./uk.txt.gz"
   ]
  },
  {
   "cell_type": "code",
   "execution_count": 26,
   "metadata": {
    "colab": {},
    "colab_type": "code",
    "id": "2MV3VvoVUX5U"
   },
   "outputs": [],
   "source": [
    "with open('./uk.txt', 'r') as f:\n",
    "    uk_corpus = f.readlines()"
   ]
  },
  {
   "cell_type": "code",
   "execution_count": 27,
   "metadata": {
    "colab": {},
    "colab_type": "code",
    "id": "tU7nPVf0UhbI"
   },
   "outputs": [],
   "source": [
    "# To save your time and CPU, feel free to use first 1000 sentences of the corpus\n",
    "uk_corpus = uk_corpus[:1000]"
   ]
  },
  {
   "cell_type": "code",
   "execution_count": 28,
   "metadata": {
    "colab": {},
    "colab_type": "code",
    "id": "FLN8dBOXAfJ1"
   },
   "outputs": [],
   "source": [
    "# Any necessary preprocessing if needed\n",
    "# YOUR CODE HERE\n",
    "from nltk.tokenize import TweetTokenizer\n",
    "tokenizer = TweetTokenizer()\n",
    "\n",
    "preprocess = lambda text: \" \".join(tokenizer.tokenize(text.lower()))\n",
    "\n",
    "uk_corpus = [preprocess(txt) for txt in uk_corpus]"
   ]
  },
  {
   "cell_type": "code",
   "execution_count": 29,
   "metadata": {
    "colab": {},
    "colab_type": "code",
    "id": "FGksC7l_NMi9"
   },
   "outputs": [],
   "source": [
    "def translate(sentence):\n",
    "    \"\"\"\n",
    "    :args:\n",
    "        sentence - sentence in Ukrainian (str)\n",
    "    :returns:\n",
    "        translation - sentence in Russian (str)\n",
    "\n",
    "    * find ukrainian embedding for each word in sentence\n",
    "    * transform ukrainian embedding vector\n",
    "    * find nearest russian word and replace\n",
    "    \"\"\"\n",
    "    # YOUR CODE GOES HERE\n",
    "    def to_ru(uk):\n",
    "        if uk in uk_emb:\n",
    "            return ru_emb.most_similar([np.matmul(uk_emb[uk], W)], topn = 1)[0][0]\n",
    "        else:\n",
    "            return '_'.join([\"UNK\", uk])\n",
    "    \n",
    "    translated = [to_ru(token_uk) for token_uk in sentence.split()]\n",
    "\n",
    "    return \" \".join(translated)"
   ]
  },
  {
   "cell_type": "code",
   "execution_count": 30,
   "metadata": {
    "colab": {},
    "colab_type": "code",
    "id": "4hbbMy-tNxlf"
   },
   "outputs": [],
   "source": [
    "assert translate(\".\") == \".\"\n",
    "assert translate(\"1 , 3\") == \"1 , 3\"\n",
    "assert translate(\"кіт зловив мишу\") == \"кот поймал мышку\""
   ]
  },
  {
   "cell_type": "markdown",
   "metadata": {
    "colab_type": "text",
    "id": "ia6I2ce7O_HI"
   },
   "source": [
    "Now you can play with your model and try to get as accurate translations as possible. **Note**: one big issue is out-of-vocabulary words. Try to think of various ways of handling it (you can start with translating each of them to a special **UNK** token and then move to more sophisticated approaches). Good luck!"
   ]
  },
  {
   "cell_type": "code",
   "execution_count": 31,
   "metadata": {
    "colab": {},
    "colab_type": "code",
    "id": "ap1W7ZCeOAVU"
   },
   "outputs": [
    {
     "name": "stdout",
     "output_type": "stream",
     "text": [
      "uk: я вже закінчу коледж , коли ви вернетеся з америки .\n",
      "ru: мной уже закончу колледж , когда мы прибежишь со америки .\n",
      "\n",
      "uk: подивися на той дим .\n",
      "ru: посмотри по тот дым .\n",
      "\n",
      "uk: у мене є мрія .\n",
      "ru: во меня То мечта .\n",
      "\n",
      "uk: він чекав на нього до десятої години .\n",
      "ru: он ждал по него к десятой часа .\n",
      "\n",
      "uk: я знаю , що ти багатий .\n",
      "ru: мной знаю , что ты богатый .\n",
      "\n",
      "uk: не твоя справа !\n",
      "ru: не моя дело !\n",
      "\n",
      "uk: коли ви народилися ?\n",
      "ru: когда мы родились ?\n",
      "\n",
      "uk: поверхня повітряної кулі — неевклідовий простір , тому для неї не виконуються правила евклідової геометрії .\n",
      "ru: поверхность воздушной шары — UNK_неевклідовий пространство , потому для неё не выполняются правила симметрической геометрии .\n",
      "\n",
      "uk: один , два , три , чотири , п'ять , шість , сім , вісім , дев'ять , десять .\n",
      "ru: один , два , три , четыре , UNK_п'ять , восемь , семь , восемь , UNK_дев'ять , десять .\n",
      "\n",
      "uk: кейт п ’ є багато молока кожен день .\n",
      "ru: джастин аш со То много молока каждый день .\n",
      "\n",
      "uk: я би з задоволенням написав сотні речень в tatoeb ’ і , але в мене є справи .\n",
      "ru: мной бы со удовольствием сочинил сотни сложноподчинённые во UNK_tatoeb со и , конечно во меня То дела .\n",
      "\n",
      "uk: як у тебе справи ?\n",
      "ru: как во тебя дела ?\n",
      "\n",
      "uk: з юбілеєм олексія дударева привітав президент білорусі олександр лукашенко .\n",
      "ru: со UNK_юбілеєм UNK_олексія UNK_дударева поприветствовал президент беларуссии борис путина. .\n",
      "\n",
      "uk: гартман вітвер — відомий львівський скульптор .\n",
      "ru: UNK_гартман UNK_вітвер — известный московский скульптор .\n",
      "\n",
      "uk: що б ти зробила , якщо б у тебе було , скажім , десять тисяч доларів ?\n",
      "ru: что бы ты сделала , если бы во тебя было , замечу , десять тысяч долларов ?\n",
      "\n",
      "uk: як я за тобою скучив !\n",
      "ru: как мной за тобой соскучился !\n",
      "\n",
      "uk: це все , що я хочу зробити .\n",
      "ru: это всё , что мной хочу сделать .\n",
      "\n",
      "uk: як людина живе , так вона і помре .\n",
      "ru: как женщина живет , так она и умрет .\n",
      "\n",
      "uk: ранені ведмеді , як правило , дуже небезпечні .\n",
      "ru: раненные медведи , как правило , очень опасные .\n",
      "\n",
      "uk: я ще не знаю своєї адреси , я певний час буду жити в подруги .\n",
      "ru: мной ещe не знаю своего адреса , мной определенный момент буду жить во подруги .\n",
      "\n"
     ]
    }
   ],
   "source": [
    "for sent in uk_corpus[::50]:\n",
    "    print(f'uk: {sent}\\nru: {translate(sent)}\\n')"
   ]
  },
  {
   "cell_type": "markdown",
   "metadata": {},
   "source": [
    "We see that there are a lot of unks and will use FastText based on n-grams (sub-words) [FastText](https://towardsdatascience.com/word-embedding-with-word2vec-and-fasttext-a209c1d3e12c)"
   ]
  },
  {
   "cell_type": "code",
   "execution_count": 32,
   "metadata": {},
   "outputs": [
    {
     "name": "stderr",
     "output_type": "stream",
     "text": [
      "Warning : `load_model` does not return WordVectorModel or SupervisedModel any more, but a `FastText` object which is very similar.\n"
     ]
    }
   ],
   "source": [
    "import fasttext\n",
    "import fasttext.util\n",
    "import Levenshtein\n",
    "\n",
    "#fasttext.util.download_model(\"uk\", if_exists=\"ignore\")\n",
    "ft_uk = fasttext.load_model(\"cc.uk.300.bin\")"
   ]
  },
  {
   "cell_type": "code",
   "execution_count": 33,
   "metadata": {},
   "outputs": [],
   "source": [
    "def translate_ft(sentence, threshold = 30):\n",
    "    \"\"\"\n",
    "    :args:\n",
    "        sentence - sentence in Ukrainian (str)\n",
    "        threshold - threshold for length work in more then threshold then UNK_*\n",
    "    :returns:\n",
    "        translation - sentence in Russian (str)\n",
    "\n",
    "    * find ukrainian embedding for each word in sentence\n",
    "    * transform ukrainian embedding vector\n",
    "    * find nearest russian word and replace\n",
    "    \"\"\"\n",
    "    # YOUR CODE GOES HERE\n",
    "    def to_ru(uk):\n",
    "        ru_token  = ru_emb.most_similar([np.matmul(ft_uk[uk], W)], topn = 1)[0][0]\n",
    "        if(len(ru_token)>threshold):\n",
    "            ru_token = '_'.join([\"UNK\", uk])\n",
    "        return ru_token    \n",
    "    \n",
    "    translated = [to_ru(token_uk) for token_uk in sentence.split()]\n",
    "\n",
    "    return \" \".join(translated)"
   ]
  },
  {
   "cell_type": "markdown",
   "metadata": {},
   "source": [
    "Let's compare model wod2vec with fasttext"
   ]
  },
  {
   "cell_type": "code",
   "execution_count": 43,
   "metadata": {},
   "outputs": [
    {
     "data": {
      "text/plain": [
       "'поймал'"
      ]
     },
     "execution_count": 43,
     "metadata": {},
     "output_type": "execute_result"
    }
   ],
   "source": [
    "ru_emb.most_similar([np.matmul(ft_uk['зловил'], W)], topn = 1)[0][0]"
   ]
  },
  {
   "cell_type": "code",
   "execution_count": null,
   "metadata": {},
   "outputs": [],
   "source": [
    "ru_emb.most_similar([np.matmul(uk_emb['зловил'], W)], topn = 1)[0][0]"
   ]
  },
  {
   "cell_type": "markdown",
   "metadata": {},
   "source": [
    "Work2Vec can't find in vocabulary  'зловил' but fasttext can find similar work and return embedding and let's translate our corpus to ru"
   ]
  },
  {
   "cell_type": "code",
   "execution_count": 45,
   "metadata": {},
   "outputs": [],
   "source": [
    "assert translate_ft(\".\") == \".\"\n",
    "assert translate_ft(\"1 , 3\") == \"1 , 3\"\n",
    "assert translate_ft(\"кіт зловив мишу\") == \"кот поймал мышку\""
   ]
  },
  {
   "cell_type": "code",
   "execution_count": 46,
   "metadata": {},
   "outputs": [
    {
     "name": "stdout",
     "output_type": "stream",
     "text": [
      "uk: я вже закінчу коледж , коли ви вернетеся з америки .\n",
      "ru: мной уже закончу колледж , когда мы прибежишь со америки .\n",
      "\n",
      "uk: подивися на той дим .\n",
      "ru: посмотри по тот дым .\n",
      "\n",
      "uk: у мене є мрія .\n",
      "ru: во меня То мечта .\n",
      "\n",
      "uk: він чекав на нього до десятої години .\n",
      "ru: он ждал по него к десятой часа .\n",
      "\n",
      "uk: я знаю , що ти багатий .\n",
      "ru: мной знаю , что ты богатый .\n",
      "\n",
      "uk: не твоя справа !\n",
      "ru: не моя дело !\n",
      "\n",
      "uk: коли ви народилися ?\n",
      "ru: когда мы родились ?\n",
      "\n",
      "uk: поверхня повітряної кулі — неевклідовий простір , тому для неї не виконуються правила евклідової геометрії .\n",
      "ru: поверхность воздушной шары — математический пространство , потому для неё не выполняются правила симметрической геометрии .\n",
      "\n",
      "uk: один , два , три , чотири , п'ять , шість , сім , вісім , дев'ять , десять .\n",
      "ru: один , два , три , четыре , UNK_п'ять , восемь , семь , восемь , UNK_дев'ять , десять .\n",
      "\n",
      "uk: кейт п ’ є багато молока кожен день .\n",
      "ru: джастин аш со То много молока каждый день .\n",
      "\n",
      "uk: я би з задоволенням написав сотні речень в tatoeb ’ і , але в мене є справи .\n",
      "ru: мной бы со удовольствием сочинил сотни сложноподчинённые во UNK_tatoeb со и , конечно во меня То дела .\n",
      "\n",
      "uk: як у тебе справи ?\n",
      "ru: как во тебя дела ?\n",
      "\n",
      "uk: з юбілеєм олексія дударева привітав президент білорусі олександр лукашенко .\n",
      "ru: со бракосочетанием анатолия Анютина поприветствовал президент беларуссии борис путина. .\n",
      "\n",
      "uk: гартман вітвер — відомий львівський скульптор .\n",
      "ru: toxunYouMırtaАзербайджанБрэйн четверг — известный московский скульптор .\n",
      "\n",
      "uk: що б ти зробила , якщо б у тебе було , скажім , десять тисяч доларів ?\n",
      "ru: что бы ты сделала , если бы во тебя было , замечу , десять тысяч долларов ?\n",
      "\n",
      "uk: як я за тобою скучив !\n",
      "ru: как мной за тобой соскучился !\n",
      "\n",
      "uk: це все , що я хочу зробити .\n",
      "ru: это всё , что мной хочу сделать .\n",
      "\n",
      "uk: як людина живе , так вона і помре .\n",
      "ru: как женщина живет , так она и умрет .\n",
      "\n",
      "uk: ранені ведмеді , як правило , дуже небезпечні .\n",
      "ru: раненные медведи , как правило , очень опасные .\n",
      "\n",
      "uk: я ще не знаю своєї адреси , я певний час буду жити в подруги .\n",
      "ru: мной ещe не знаю своего адреса , мной определенный момент буду жить во подруги .\n",
      "\n"
     ]
    }
   ],
   "source": [
    "for sent in uk_corpus[::50]:\n",
    "    print(f'uk: {sent}\\nru: {translate_ft(sent)}\\n')"
   ]
  }
 ],
 "metadata": {
  "anaconda-cloud": {},
  "colab": {
   "collapsed_sections": [],
   "machine_shape": "hm",
   "name": "homework.ipynb",
   "provenance": []
  },
  "kernelspec": {
   "display_name": "alfa",
   "language": "python",
   "name": "alfa"
  },
  "language_info": {
   "codemirror_mode": {
    "name": "ipython",
    "version": 3
   },
   "file_extension": ".py",
   "mimetype": "text/x-python",
   "name": "python",
   "nbconvert_exporter": "python",
   "pygments_lexer": "ipython3",
   "version": "3.8.3"
  }
 },
 "nbformat": 4,
 "nbformat_minor": 4
}
